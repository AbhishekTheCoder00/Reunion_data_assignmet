{
 "cells": [
  {
   "cell_type": "code",
   "execution_count": 1,
   "id": "794e165b",
   "metadata": {},
   "outputs": [],
   "source": [
    "import sqlite3\n",
    "import pandas as pd\n",
    "import json"
   ]
  },
  {
   "cell_type": "code",
   "execution_count": 2,
   "id": "23b0b7ab",
   "metadata": {},
   "outputs": [],
   "source": [
    "with open('nested_data.json', 'r', encoding='utf-8') as f:\n",
    "    data = json.load(f)"
   ]
  },
  {
   "cell_type": "code",
   "execution_count": 3,
   "id": "19e82fc6",
   "metadata": {},
   "outputs": [],
   "source": [
    "# Create dataframes\n",
    "programs = []\n",
    "concerts = []\n",
    "works = []\n",
    "soloists = []\n",
    "\n",
    "for program in data['programs']:\n",
    "    programs.append({\n",
    "        'program_id': program['programID'],\n",
    "        'season': program['season'],\n",
    "        'orchestra': program['orchestra']\n",
    "    })\n",
    "    \n",
    "    for concert in program['concerts']:\n",
    "        concerts.append({\n",
    "            'program_id': program['programID'],\n",
    "            'date': concert['Date'],\n",
    "            'event_type': concert['eventType'],\n",
    "            'venue': concert['Venue'],\n",
    "            'location': concert['Location'],\n",
    "            'time': concert['Time']\n",
    "        })\n",
    "    \n",
    "    for work in program['works']:\n",
    "        works.append({\n",
    "            'work_id': work['ID'],\n",
    "            'program_id': program['programID'],\n",
    "            'work_title': work.get('workTitle', ''),\n",
    "            'composer_name': work.get('composerName', ''),\n",
    "            'conductor_name': work.get('conductorName', ''),\n",
    "            'movement': work.get('movement', ''),\n",
    "            'interval': work.get('interval', '')\n",
    "        })\n",
    "        \n",
    "        for soloist in work.get('soloists', []):\n",
    "            soloists.append({\n",
    "                'work_id': work['ID'],\n",
    "                'soloist_name': soloist['soloistName'],\n",
    "                'soloist_roles': soloist['soloistRoles'],\n",
    "                'soloist_instrument': soloist['soloistInstrument']\n",
    "            })"
   ]
  },
  {
   "cell_type": "code",
   "execution_count": 4,
   "id": "2b25f6bf",
   "metadata": {},
   "outputs": [],
   "source": [
    "programs_df = pd.DataFrame(programs).drop_duplicates(subset='program_id')\n",
    "concerts_df = pd.DataFrame(concerts)\n",
    "works_df = pd.DataFrame(works).drop_duplicates(subset='work_id')\n",
    "soloists_df = pd.DataFrame(soloists)"
   ]
  },
  {
   "cell_type": "code",
   "execution_count": 5,
   "id": "2ed2ce56",
   "metadata": {},
   "outputs": [],
   "source": [
    "for col in works_df.columns:\n",
    "    works_df[col] = works_df[col].astype(str)"
   ]
  },
  {
   "cell_type": "code",
   "execution_count": 6,
   "id": "76efc9bb",
   "metadata": {},
   "outputs": [],
   "source": [
    "conn = sqlite3.connect('orchestra.db')"
   ]
  },
  {
   "cell_type": "code",
   "execution_count": 7,
   "id": "590e1a45",
   "metadata": {},
   "outputs": [
    {
     "data": {
      "text/plain": [
       "<sqlite3.Cursor at 0x1c6742a1140>"
      ]
     },
     "execution_count": 7,
     "metadata": {},
     "output_type": "execute_result"
    }
   ],
   "source": [
    "# Create the tables\n",
    "cur = conn.cursor()\n",
    "cur.execute(\"\"\"\n",
    "CREATE TABLE IF NOT EXISTS programs (\n",
    "    program_id TEXT PRIMARY KEY,\n",
    "    season TEXT,\n",
    "    orchestra TEXT\n",
    ")\n",
    "\"\"\")"
   ]
  },
  {
   "cell_type": "code",
   "execution_count": 8,
   "id": "f56a3f18",
   "metadata": {},
   "outputs": [
    {
     "data": {
      "text/plain": [
       "<sqlite3.Cursor at 0x1c6742a1140>"
      ]
     },
     "execution_count": 8,
     "metadata": {},
     "output_type": "execute_result"
    }
   ],
   "source": [
    "cur.execute(\"\"\"\n",
    "CREATE TABLE IF NOT EXISTS concerts (\n",
    "    concert_id INTEGER PRIMARY KEY AUTOINCREMENT,\n",
    "    program_id TEXT,\n",
    "    date TIMESTAMP,\n",
    "    event_type TEXT,\n",
    "    venue TEXT,\n",
    "    location TEXT,\n",
    "    time TEXT,\n",
    "    FOREIGN KEY (program_id) REFERENCES programs(program_id)\n",
    ")\n",
    "\"\"\")"
   ]
  },
  {
   "cell_type": "code",
   "execution_count": 9,
   "id": "38bd675d",
   "metadata": {},
   "outputs": [
    {
     "data": {
      "text/plain": [
       "<sqlite3.Cursor at 0x1c6742a1140>"
      ]
     },
     "execution_count": 9,
     "metadata": {},
     "output_type": "execute_result"
    }
   ],
   "source": [
    "\n",
    "cur.execute(\"\"\"\n",
    "CREATE TABLE IF NOT EXISTS works (\n",
    "    work_id TEXT PRIMARY KEY,\n",
    "    program_id TEXT,\n",
    "    work_title TEXT,\n",
    "    composer_name TEXT,\n",
    "    conductor_name TEXT,\n",
    "    movement TEXT,\n",
    "    interval TEXT,\n",
    "    FOREIGN KEY (program_id) REFERENCES programs(program_id)\n",
    ")\n",
    "\"\"\")"
   ]
  },
  {
   "cell_type": "code",
   "execution_count": 10,
   "id": "0075f05f",
   "metadata": {},
   "outputs": [
    {
     "data": {
      "text/plain": [
       "<sqlite3.Cursor at 0x1c6742a1140>"
      ]
     },
     "execution_count": 10,
     "metadata": {},
     "output_type": "execute_result"
    }
   ],
   "source": [
    "cur.execute(\"\"\"\n",
    "CREATE TABLE IF NOT EXISTS soloists (\n",
    "    soloist_id INTEGER PRIMARY KEY AUTOINCREMENT,\n",
    "    work_id TEXT,\n",
    "    soloist_name TEXT,\n",
    "    soloist_roles TEXT,\n",
    "    soloist_instrument TEXT,\n",
    "    FOREIGN KEY (work_id) REFERENCES works(work_id)\n",
    ")\n",
    "\"\"\")"
   ]
  },
  {
   "cell_type": "code",
   "execution_count": 11,
   "id": "e89986a2",
   "metadata": {},
   "outputs": [],
   "source": [
    "def insert_data(df, table_name):\n",
    "    columns = ', '.join(df.columns)\n",
    "    placeholders = ', '.join(['?' for _ in df.columns])\n",
    "    sql = f\"INSERT OR IGNORE INTO {table_name} ({columns}) VALUES ({placeholders})\"\n",
    "    \n",
    "    data = [tuple(row) for row in df.itertuples(index=False, name=None)]\n",
    "\n",
    "    with sqlite3.connect('orchestra.db') as conn:\n",
    "        cur = conn.cursor()\n",
    "        cur.executemany(sql, data)\n",
    "        conn.commit()"
   ]
  },
  {
   "cell_type": "code",
   "execution_count": 12,
   "id": "2d3cc067",
   "metadata": {},
   "outputs": [],
   "source": [
    "insert_data(programs_df, 'programs')\n",
    "insert_data(concerts_df, 'concerts')\n",
    "insert_data(works_df, 'works')\n",
    "insert_data(soloists_df, 'soloists')"
   ]
  },
  {
   "cell_type": "code",
   "execution_count": 13,
   "id": "2fc2cd7a",
   "metadata": {},
   "outputs": [
    {
     "name": "stdout",
     "output_type": "stream",
     "text": [
      "\n",
      "Data from table programs:\n",
      "('3853', '1842-43', 'New York Philharmonic')\n",
      "('5178', '1842-43', 'New York Philharmonic')\n",
      "('10785', '1842-43', 'Musicians from the New York Philharmonic')\n",
      "('5887', '1842-43', 'New York Philharmonic')\n",
      "('305', '1843-44', 'New York Philharmonic')\n",
      "\n",
      "Data from table concerts:\n",
      "(1, '3853', '1842-12-07T05:00:00Z', 'Subscription Season', 'Apollo Rooms', 'Manhattan, NY', '8:00PM')\n",
      "(2, '5178', '1843-02-18T05:00:00Z', 'Subscription Season', 'Apollo Rooms', 'Manhattan, NY', '8:00PM')\n",
      "(3, '10785', '1843-04-07T05:00:00Z', 'Special', 'Apollo Rooms', 'Manhattan, NY', '8:00PM')\n",
      "(4, '5887', '1843-04-22T05:00:00Z', 'Subscription Season', 'Apollo Rooms', 'Manhattan, NY', '8:00PM')\n",
      "(5, '305', '1843-11-18T05:00:00Z', 'Subscription Season', 'Apollo Rooms', 'Manhattan, NY', 'None')\n",
      "\n",
      "Data from table works:\n",
      "('52446*', '3853', 'SYMPHONY NO. 5 IN C MINOR, OP.67', 'Beethoven,  Ludwig  van', 'Hill, Ureli Corelli', '', '')\n",
      "('8834*4', '3853', 'OBERON', 'Weber,  Carl  Maria Von', 'Timm, Henry C.', '\"Ozean, du Ungeheuer\" (Ocean, thou mighty monster), Reiza (Scene and Aria), Act II', '')\n",
      "('3642*', '3853', 'QUINTET, PIANO, D MINOR, OP. 74', 'Hummel,  Johann', '', '', '')\n",
      "('0*', '3853', '', '', '', '', 'Intermission')\n",
      "('8834*3', '3853', 'OBERON', 'Weber,  Carl  Maria Von', 'Etienne, Denis G.', 'Overture', '')\n",
      "\n",
      "Data from table soloists:\n",
      "(1, '8834*4', 'Otto, Antoinette', 'S', 'Soprano')\n",
      "(2, '3642*', 'Scharfenberg, William', 'A', 'Piano')\n",
      "(3, '3642*', 'Hill, Ureli Corelli', 'A', 'Violin')\n",
      "(4, '3642*', 'Derwort, G. H.', 'A', 'Viola')\n",
      "(5, '3642*', 'Boucher, Alfred', 'A', 'Cello')\n"
     ]
    }
   ],
   "source": [
    "for table in ['programs', 'concerts', 'works', 'soloists']:\n",
    "    print(f\"\\nData from table {table}:\")\n",
    "    cur.execute(f\"SELECT * FROM {table} LIMIT 5\")\n",
    "    rows = cur.fetchall()\n",
    "    for row in rows:\n",
    "        print(row)"
   ]
  },
  {
   "cell_type": "code",
   "execution_count": 14,
   "id": "e1763d4c",
   "metadata": {},
   "outputs": [],
   "source": [
    "import sqlite3\n",
    "import pandas as pd"
   ]
  },
  {
   "cell_type": "code",
   "execution_count": 15,
   "id": "25f67394",
   "metadata": {},
   "outputs": [],
   "source": [
    "conn = sqlite3.connect('orchestra.db')\n",
    "programs_df = pd.read_sql_query(\"SELECT * FROM programs\", conn)\n",
    "concerts_df = pd.read_sql_query(\"SELECT * FROM concerts\", conn)\n",
    "works_df = pd.read_sql_query(\"SELECT * FROM works\", conn)\n",
    "soloists_df = pd.read_sql_query(\"SELECT * FROM soloists\", conn)"
   ]
  },
  {
   "cell_type": "code",
   "execution_count": 16,
   "id": "2cad807c",
   "metadata": {},
   "outputs": [
    {
     "name": "stdout",
     "output_type": "stream",
     "text": [
      "Programs DataFrame missing values:\n",
      "program_id    0\n",
      "season        0\n",
      "orchestra     0\n",
      "dtype: int64\n",
      "\n",
      "Concerts DataFrame missing values:\n",
      "concert_id    0\n",
      "program_id    0\n",
      "date          0\n",
      "event_type    0\n",
      "venue         0\n",
      "location      0\n",
      "time          0\n",
      "dtype: int64\n",
      "\n",
      "Works DataFrame missing values:\n",
      "work_id           0\n",
      "program_id        0\n",
      "work_title        0\n",
      "composer_name     0\n",
      "conductor_name    0\n",
      "movement          0\n",
      "interval          0\n",
      "dtype: int64\n",
      "\n",
      "Soloists DataFrame missing values:\n",
      "soloist_id              0\n",
      "work_id                 0\n",
      "soloist_name           66\n",
      "soloist_roles          80\n",
      "soloist_instrument    105\n",
      "dtype: int64\n"
     ]
    }
   ],
   "source": [
    "print(\"Programs DataFrame missing values:\")\n",
    "print(programs_df.isnull().sum())\n",
    "\n",
    "print(\"\\nConcerts DataFrame missing values:\")\n",
    "print(concerts_df.isnull().sum())\n",
    "\n",
    "print(\"\\nWorks DataFrame missing values:\")\n",
    "print(works_df.isnull().sum())\n",
    "\n",
    "print(\"\\nSoloists DataFrame missing values:\")\n",
    "print(soloists_df.isnull().sum())"
   ]
  },
  {
   "cell_type": "code",
   "execution_count": null,
   "id": "e8ebbca3",
   "metadata": {},
   "outputs": [],
   "source": []
  },
  {
   "cell_type": "code",
   "execution_count": null,
   "id": "a485466d",
   "metadata": {},
   "outputs": [],
   "source": []
  }
 ],
 "metadata": {
  "kernelspec": {
   "display_name": "Python 3 (ipykernel)",
   "language": "python",
   "name": "python3"
  },
  "language_info": {
   "codemirror_mode": {
    "name": "ipython",
    "version": 3
   },
   "file_extension": ".py",
   "mimetype": "text/x-python",
   "name": "python",
   "nbconvert_exporter": "python",
   "pygments_lexer": "ipython3",
   "version": "3.11.0"
  }
 },
 "nbformat": 4,
 "nbformat_minor": 5
}
