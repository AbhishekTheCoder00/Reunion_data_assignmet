{
 "cells": [
  {
   "cell_type": "code",
   "execution_count": 1,
   "id": "2f0038a8",
   "metadata": {},
   "outputs": [],
   "source": [
    "import pandas as pd"
   ]
  },
  {
   "cell_type": "code",
   "execution_count": 2,
   "id": "05efed3c",
   "metadata": {},
   "outputs": [],
   "source": [
    "data = pd.read_excel('Time Series.xlsx')"
   ]
  },
  {
   "cell_type": "code",
   "execution_count": 3,
   "id": "7cfe6226",
   "metadata": {},
   "outputs": [],
   "source": [
    "data['Start'] = pd.to_datetime(data['Start'])\n",
    "data['End'] = pd.to_datetime(data['End'])"
   ]
  },
  {
   "cell_type": "code",
   "execution_count": 4,
   "id": "5432ec78",
   "metadata": {},
   "outputs": [],
   "source": [
    "data.sort_values(by=['Name', 'Start'], inplace=True)"
   ]
  },
  {
   "cell_type": "code",
   "execution_count": 5,
   "id": "e5127f3c",
   "metadata": {},
   "outputs": [],
   "source": [
    "continuous_periods = []\n",
    "\n",
    "for name in data['Name'].unique():\n",
    "    person_data = data[data['Name'] == name]\n",
    "    start_time = person_data.iloc[0]['Start']\n",
    "    end_time = person_data.iloc[0]['End']\n",
    "    activities = [person_data.iloc[0]['Activity']]\n",
    "    \n",
    "    for i in range(1, len(person_data)):\n",
    "        if person_data.iloc[i]['Start'] <= end_time:\n",
    "            end_time = max(end_time, person_data.iloc[i]['End'])\n",
    "            activities.append(person_data.iloc[i]['Activity'])\n",
    "        else:\n",
    "            continuous_periods.append({'Name': name, 'Start': start_time, 'End': end_time, 'Activities': activities})\n",
    "            start_time = person_data.iloc[i]['Start']\n",
    "            end_time = person_data.iloc[i]['End']\n",
    "            activities = [person_data.iloc[i]['Activity']]\n",
    "    \n",
    "    continuous_periods.append({'Name': name, 'Start': start_time, 'End': end_time, 'Activities': activities})"
   ]
  },
  {
   "cell_type": "code",
   "execution_count": 6,
   "id": "a7036c02",
   "metadata": {},
   "outputs": [],
   "source": [
    "continuous_periods_df = pd.DataFrame(continuous_periods)"
   ]
  },
  {
   "cell_type": "code",
   "execution_count": 7,
   "id": "2be0b86f",
   "metadata": {},
   "outputs": [],
   "source": [
    "continuous_periods_df.to_excel('continuous_periods.xlsx', index=False)"
   ]
  },
  {
   "cell_type": "code",
   "execution_count": 8,
   "id": "9b9af179",
   "metadata": {},
   "outputs": [],
   "source": [
    "data2 = pd.read_excel('continuous_periods.xlsx')"
   ]
  },
  {
   "cell_type": "code",
   "execution_count": 9,
   "id": "a43284df",
   "metadata": {},
   "outputs": [
    {
     "data": {
      "text/html": [
       "<div>\n",
       "<style scoped>\n",
       "    .dataframe tbody tr th:only-of-type {\n",
       "        vertical-align: middle;\n",
       "    }\n",
       "\n",
       "    .dataframe tbody tr th {\n",
       "        vertical-align: top;\n",
       "    }\n",
       "\n",
       "    .dataframe thead th {\n",
       "        text-align: right;\n",
       "    }\n",
       "</style>\n",
       "<table border=\"1\" class=\"dataframe\">\n",
       "  <thead>\n",
       "    <tr style=\"text-align: right;\">\n",
       "      <th></th>\n",
       "      <th>Name</th>\n",
       "      <th>Start</th>\n",
       "      <th>End</th>\n",
       "      <th>Activities</th>\n",
       "    </tr>\n",
       "  </thead>\n",
       "  <tbody>\n",
       "    <tr>\n",
       "      <th>0</th>\n",
       "      <td>Deepti</td>\n",
       "      <td>2023-03-29 15:31:52.620</td>\n",
       "      <td>2023-10-15 15:31:52.620</td>\n",
       "      <td>['Business Development', 'Reply to Customers',...</td>\n",
       "    </tr>\n",
       "    <tr>\n",
       "      <th>1</th>\n",
       "      <td>Jyoti</td>\n",
       "      <td>2023-03-29 15:31:52.620</td>\n",
       "      <td>2023-10-15 13:07:52.620</td>\n",
       "      <td>['Business Development', 'Inspection', 'Fund r...</td>\n",
       "    </tr>\n",
       "    <tr>\n",
       "      <th>2</th>\n",
       "      <td>Priyanka</td>\n",
       "      <td>2023-03-29 15:31:52.620</td>\n",
       "      <td>2023-10-15 15:31:52.620</td>\n",
       "      <td>['Business Development', 'Remote Inspection', ...</td>\n",
       "    </tr>\n",
       "    <tr>\n",
       "      <th>3</th>\n",
       "      <td>Ravi</td>\n",
       "      <td>2023-03-29 15:31:52.620</td>\n",
       "      <td>2023-10-15 08:19:52.620</td>\n",
       "      <td>['Call', 'Call', 'Fund raising', 'Call', 'Fund...</td>\n",
       "    </tr>\n",
       "    <tr>\n",
       "      <th>4</th>\n",
       "      <td>Ravi</td>\n",
       "      <td>2023-10-15 10:43:52.620</td>\n",
       "      <td>2023-06-10 17:55:52.620</td>\n",
       "      <td>['Send Email']</td>\n",
       "    </tr>\n",
       "  </tbody>\n",
       "</table>\n",
       "</div>"
      ],
      "text/plain": [
       "       Name                   Start                     End  \\\n",
       "0    Deepti 2023-03-29 15:31:52.620 2023-10-15 15:31:52.620   \n",
       "1     Jyoti 2023-03-29 15:31:52.620 2023-10-15 13:07:52.620   \n",
       "2  Priyanka 2023-03-29 15:31:52.620 2023-10-15 15:31:52.620   \n",
       "3      Ravi 2023-03-29 15:31:52.620 2023-10-15 08:19:52.620   \n",
       "4      Ravi 2023-10-15 10:43:52.620 2023-06-10 17:55:52.620   \n",
       "\n",
       "                                          Activities  \n",
       "0  ['Business Development', 'Reply to Customers',...  \n",
       "1  ['Business Development', 'Inspection', 'Fund r...  \n",
       "2  ['Business Development', 'Remote Inspection', ...  \n",
       "3  ['Call', 'Call', 'Fund raising', 'Call', 'Fund...  \n",
       "4                                     ['Send Email']  "
      ]
     },
     "execution_count": 9,
     "metadata": {},
     "output_type": "execute_result"
    }
   ],
   "source": [
    "data2.head()"
   ]
  },
  {
   "cell_type": "code",
   "execution_count": 10,
   "id": "e5adf414",
   "metadata": {},
   "outputs": [
    {
     "data": {
      "text/plain": [
       "(15, 4)"
      ]
     },
     "execution_count": 10,
     "metadata": {},
     "output_type": "execute_result"
    }
   ],
   "source": [
    "data2.shape"
   ]
  },
  {
   "cell_type": "code",
   "execution_count": 11,
   "id": "2ea03736",
   "metadata": {},
   "outputs": [
    {
     "data": {
      "text/html": [
       "<div>\n",
       "<style scoped>\n",
       "    .dataframe tbody tr th:only-of-type {\n",
       "        vertical-align: middle;\n",
       "    }\n",
       "\n",
       "    .dataframe tbody tr th {\n",
       "        vertical-align: top;\n",
       "    }\n",
       "\n",
       "    .dataframe thead th {\n",
       "        text-align: right;\n",
       "    }\n",
       "</style>\n",
       "<table border=\"1\" class=\"dataframe\">\n",
       "  <thead>\n",
       "    <tr style=\"text-align: right;\">\n",
       "      <th></th>\n",
       "      <th>Name</th>\n",
       "      <th>Start</th>\n",
       "      <th>End</th>\n",
       "      <th>Activities</th>\n",
       "    </tr>\n",
       "  </thead>\n",
       "  <tbody>\n",
       "    <tr>\n",
       "      <th>0</th>\n",
       "      <td>Deepti</td>\n",
       "      <td>2023-03-29 15:31:52.620</td>\n",
       "      <td>2023-10-15 15:31:52.620</td>\n",
       "      <td>['Business Development', 'Reply to Customers',...</td>\n",
       "    </tr>\n",
       "    <tr>\n",
       "      <th>1</th>\n",
       "      <td>Jyoti</td>\n",
       "      <td>2023-03-29 15:31:52.620</td>\n",
       "      <td>2023-10-15 13:07:52.620</td>\n",
       "      <td>['Business Development', 'Inspection', 'Fund r...</td>\n",
       "    </tr>\n",
       "    <tr>\n",
       "      <th>2</th>\n",
       "      <td>Priyanka</td>\n",
       "      <td>2023-03-29 15:31:52.620</td>\n",
       "      <td>2023-10-15 15:31:52.620</td>\n",
       "      <td>['Business Development', 'Remote Inspection', ...</td>\n",
       "    </tr>\n",
       "    <tr>\n",
       "      <th>3</th>\n",
       "      <td>Ravi</td>\n",
       "      <td>2023-03-29 15:31:52.620</td>\n",
       "      <td>2023-10-15 08:19:52.620</td>\n",
       "      <td>['Call', 'Call', 'Fund raising', 'Call', 'Fund...</td>\n",
       "    </tr>\n",
       "    <tr>\n",
       "      <th>4</th>\n",
       "      <td>Ravi</td>\n",
       "      <td>2023-10-15 10:43:52.620</td>\n",
       "      <td>2023-06-10 17:55:52.620</td>\n",
       "      <td>['Send Email']</td>\n",
       "    </tr>\n",
       "    <tr>\n",
       "      <th>5</th>\n",
       "      <td>Ravi</td>\n",
       "      <td>2023-10-15 10:43:52.620</td>\n",
       "      <td>2023-06-28 13:07:52.620</td>\n",
       "      <td>['Reporting']</td>\n",
       "    </tr>\n",
       "    <tr>\n",
       "      <th>6</th>\n",
       "      <td>Ravi</td>\n",
       "      <td>2023-10-15 10:43:52.620</td>\n",
       "      <td>2023-07-26 01:07:52.620</td>\n",
       "      <td>['Inspection']</td>\n",
       "    </tr>\n",
       "    <tr>\n",
       "      <th>7</th>\n",
       "      <td>Ravi</td>\n",
       "      <td>2023-10-15 10:43:52.620</td>\n",
       "      <td>2023-07-06 13:07:52.620</td>\n",
       "      <td>['Inspection']</td>\n",
       "    </tr>\n",
       "    <tr>\n",
       "      <th>8</th>\n",
       "      <td>Ravi</td>\n",
       "      <td>2023-10-15 13:07:52.620</td>\n",
       "      <td>2023-04-18 10:43:52.620</td>\n",
       "      <td>['Send Email']</td>\n",
       "    </tr>\n",
       "    <tr>\n",
       "      <th>9</th>\n",
       "      <td>Ravi</td>\n",
       "      <td>2023-10-15 13:07:52.620</td>\n",
       "      <td>2023-08-27 08:19:52.620</td>\n",
       "      <td>['Podcast']</td>\n",
       "    </tr>\n",
       "    <tr>\n",
       "      <th>10</th>\n",
       "      <td>Sharan</td>\n",
       "      <td>2023-03-29 15:31:52.620</td>\n",
       "      <td>2023-10-15 05:55:52.620</td>\n",
       "      <td>['Inspection', 'Send Email', 'Fund raising', '...</td>\n",
       "    </tr>\n",
       "    <tr>\n",
       "      <th>11</th>\n",
       "      <td>Sharan</td>\n",
       "      <td>2023-10-15 08:19:52.620</td>\n",
       "      <td>2023-07-20 08:19:52.620</td>\n",
       "      <td>['Fund raising']</td>\n",
       "    </tr>\n",
       "    <tr>\n",
       "      <th>12</th>\n",
       "      <td>Sharan</td>\n",
       "      <td>2023-10-15 08:19:52.620</td>\n",
       "      <td>2023-08-14 17:55:52.620</td>\n",
       "      <td>['Reporting']</td>\n",
       "    </tr>\n",
       "    <tr>\n",
       "      <th>13</th>\n",
       "      <td>Sharan</td>\n",
       "      <td>2023-10-15 08:19:52.620</td>\n",
       "      <td>2023-04-08 05:55:52.620</td>\n",
       "      <td>['Podcast']</td>\n",
       "    </tr>\n",
       "    <tr>\n",
       "      <th>14</th>\n",
       "      <td>Sharan</td>\n",
       "      <td>2023-10-15 15:31:52.620</td>\n",
       "      <td>2023-07-23 17:55:52.620</td>\n",
       "      <td>['Fund raising']</td>\n",
       "    </tr>\n",
       "  </tbody>\n",
       "</table>\n",
       "</div>"
      ],
      "text/plain": [
       "        Name                   Start                     End  \\\n",
       "0     Deepti 2023-03-29 15:31:52.620 2023-10-15 15:31:52.620   \n",
       "1      Jyoti 2023-03-29 15:31:52.620 2023-10-15 13:07:52.620   \n",
       "2   Priyanka 2023-03-29 15:31:52.620 2023-10-15 15:31:52.620   \n",
       "3       Ravi 2023-03-29 15:31:52.620 2023-10-15 08:19:52.620   \n",
       "4       Ravi 2023-10-15 10:43:52.620 2023-06-10 17:55:52.620   \n",
       "5       Ravi 2023-10-15 10:43:52.620 2023-06-28 13:07:52.620   \n",
       "6       Ravi 2023-10-15 10:43:52.620 2023-07-26 01:07:52.620   \n",
       "7       Ravi 2023-10-15 10:43:52.620 2023-07-06 13:07:52.620   \n",
       "8       Ravi 2023-10-15 13:07:52.620 2023-04-18 10:43:52.620   \n",
       "9       Ravi 2023-10-15 13:07:52.620 2023-08-27 08:19:52.620   \n",
       "10    Sharan 2023-03-29 15:31:52.620 2023-10-15 05:55:52.620   \n",
       "11    Sharan 2023-10-15 08:19:52.620 2023-07-20 08:19:52.620   \n",
       "12    Sharan 2023-10-15 08:19:52.620 2023-08-14 17:55:52.620   \n",
       "13    Sharan 2023-10-15 08:19:52.620 2023-04-08 05:55:52.620   \n",
       "14    Sharan 2023-10-15 15:31:52.620 2023-07-23 17:55:52.620   \n",
       "\n",
       "                                           Activities  \n",
       "0   ['Business Development', 'Reply to Customers',...  \n",
       "1   ['Business Development', 'Inspection', 'Fund r...  \n",
       "2   ['Business Development', 'Remote Inspection', ...  \n",
       "3   ['Call', 'Call', 'Fund raising', 'Call', 'Fund...  \n",
       "4                                      ['Send Email']  \n",
       "5                                       ['Reporting']  \n",
       "6                                      ['Inspection']  \n",
       "7                                      ['Inspection']  \n",
       "8                                      ['Send Email']  \n",
       "9                                         ['Podcast']  \n",
       "10  ['Inspection', 'Send Email', 'Fund raising', '...  \n",
       "11                                   ['Fund raising']  \n",
       "12                                      ['Reporting']  \n",
       "13                                        ['Podcast']  \n",
       "14                                   ['Fund raising']  "
      ]
     },
     "execution_count": 11,
     "metadata": {},
     "output_type": "execute_result"
    }
   ],
   "source": [
    "data2"
   ]
  },
  {
   "cell_type": "code",
   "execution_count": null,
   "id": "eec4c72e",
   "metadata": {},
   "outputs": [],
   "source": []
  }
 ],
 "metadata": {
  "kernelspec": {
   "display_name": "Python 3 (ipykernel)",
   "language": "python",
   "name": "python3"
  },
  "language_info": {
   "codemirror_mode": {
    "name": "ipython",
    "version": 3
   },
   "file_extension": ".py",
   "mimetype": "text/x-python",
   "name": "python",
   "nbconvert_exporter": "python",
   "pygments_lexer": "ipython3",
   "version": "3.11.0"
  }
 },
 "nbformat": 4,
 "nbformat_minor": 5
}
