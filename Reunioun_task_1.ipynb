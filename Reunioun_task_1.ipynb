{
 "cells": [
  {
   "cell_type": "code",
   "execution_count": null,
   "id": "7181f4b5-0904-4975-a8d4-b4b940ab4e22",
   "metadata": {},
   "outputs": [],
   "source": [
    "import random\n",
    "from datetime import datetime, timedelta\n",
    "import sqlite3"
   ]
  },
  {
   "cell_type": "code",
   "execution_count": null,
   "id": "0aa92000-8de8-4908-9fda-c78af760b949",
   "metadata": {},
   "outputs": [],
   "source": [
    "conn = sqlite3.connect('ecommerce.db')\n",
    "cursor = conn.cursor()"
   ]
  },
  {
   "cell_type": "code",
   "execution_count": null,
   "id": "389596c0-30a9-4037-95c9-7f5776dded57",
   "metadata": {},
   "outputs": [
    {
     "data": {
      "text/plain": [
       "<sqlite3.Cursor at 0x29aeb756940>"
      ]
     },
     "execution_count": 6,
     "metadata": {},
     "output_type": "execute_result"
    }
   ],
   "source": [
    "cursor.execute('''\n",
    "CREATE TABLE IF NOT EXISTS Product (\n",
    "    product_id INTEGER PRIMARY KEY AUTOINCREMENT,\n",
    "    name TEXT,\n",
    "    category TEXT,\n",
    "    discontinued BOOLEAN\n",
    ")''')\n"
   ]
  },
  {
   "cell_type": "code",
   "execution_count": null,
   "id": "61a16c3c-9b7d-444b-8efe-6b877b9e9a81",
   "metadata": {},
   "outputs": [
    {
     "data": {
      "text/plain": [
       "<sqlite3.Cursor at 0x29aeb756940>"
      ]
     },
     "execution_count": 7,
     "metadata": {},
     "output_type": "execute_result"
    }
   ],
   "source": [
    "\n",
    "cursor.execute('''\n",
    "CREATE TABLE IF NOT EXISTS Variant (\n",
    "    variant_id INTEGER PRIMARY KEY AUTOINCREMENT,\n",
    "    product_id INTEGER,\n",
    "    name TEXT,\n",
    "    price REAL,\n",
    "    discontinued BOOLEAN,\n",
    "    FOREIGN KEY (product_id) REFERENCES Product (product_id)\n",
    ")''')\n"
   ]
  },
  {
   "cell_type": "code",
   "execution_count": null,
   "id": "6c2b041e-e396-4194-85f7-224b38d634da",
   "metadata": {},
   "outputs": [
    {
     "data": {
      "text/plain": [
       "<sqlite3.Cursor at 0x29aeb756940>"
      ]
     },
     "execution_count": 8,
     "metadata": {},
     "output_type": "execute_result"
    }
   ],
   "source": [
    "cursor.execute('''\n",
    "CREATE TABLE IF NOT EXISTS Customer (\n",
    "    customer_id INTEGER PRIMARY KEY AUTOINCREMENT,\n",
    "    name TEXT,\n",
    "    email TEXT,\n",
    "    phone TEXT,\n",
    "    address TEXT,\n",
    "    created_at TIMESTAMP,\n",
    "    updated_at TIMESTAMP\n",
    ")''')\n"
   ]
  },
  {
   "cell_type": "code",
   "execution_count": null,
   "id": "e140b9b7-69d0-4652-b6b9-e60ba31d369b",
   "metadata": {},
   "outputs": [
    {
     "data": {
      "text/plain": [
       "<sqlite3.Cursor at 0x29aeb756940>"
      ]
     },
     "execution_count": 10,
     "metadata": {},
     "output_type": "execute_result"
    }
   ],
   "source": [
    "cursor.execute('''\n",
    "CREATE TABLE IF NOT EXISTS \"OrderItem\" (\n",
    "    order_item_id INTEGER PRIMARY KEY AUTOINCREMENT,\n",
    "    order_id INTEGER,\n",
    "    variant_id INTEGER,\n",
    "    quantity INTEGER,\n",
    "    price_at_purchase REAL,\n",
    "    FOREIGN KEY (order_id) REFERENCES \"Order\" (order_id),\n",
    "    FOREIGN KEY (variant_id) REFERENCES Variant (variant_id)\n",
    ")''')"
   ]
  },
  {
   "cell_type": "code",
   "execution_count": null,
   "id": "e39de7b0-ba6e-4d0f-b893-e78ffc03d128",
   "metadata": {},
   "outputs": [
    {
     "data": {
      "text/plain": [
       "<sqlite3.Cursor at 0x29aeb756940>"
      ]
     },
     "execution_count": 11,
     "metadata": {},
     "output_type": "execute_result"
    }
   ],
   "source": [
    "cursor.execute('''\n",
    "CREATE TABLE IF NOT EXISTS \"Order\" (\n",
    "    order_id INTEGER PRIMARY KEY AUTOINCREMENT,\n",
    "    customer_id INTEGER,\n",
    "    order_date TIMESTAMP,\n",
    "    total_amount REAL,\n",
    "    FOREIGN KEY (customer_id) REFERENCES Customer (customer_id)\n",
    ")''')"
   ]
  },
  {
   "cell_type": "code",
   "execution_count": null,
   "id": "cb89ac55-3991-466b-9a96-7e4f587faead",
   "metadata": {},
   "outputs": [
    {
     "data": {
      "text/plain": [
       "<sqlite3.Cursor at 0x29aeb756940>"
      ]
     },
     "execution_count": 12,
     "metadata": {},
     "output_type": "execute_result"
    }
   ],
   "source": [
    "cursor.execute('''\n",
    "CREATE TABLE IF NOT EXISTS CustomerAddress (\n",
    "    address_id INTEGER PRIMARY KEY AUTOINCREMENT,\n",
    "    customer_id INTEGER,\n",
    "    address TEXT,\n",
    "    created_at TIMESTAMP,\n",
    "    updated_at TIMESTAMP,\n",
    "    FOREIGN KEY (customer_id) REFERENCES Customer (customer_id)\n",
    ")''')"
   ]
  },
  {
   "cell_type": "code",
   "execution_count": 13,
   "id": "ab215e64-d8dc-4761-b56c-0083ede58a18",
   "metadata": {
    "tags": []
   },
   "outputs": [],
   "source": [
    "categories = ['clothing', 'groceries', 'electronics']\n",
    "products = [\n",
    "    {'name': 'T-Shirt', 'category': 'clothing'},\n",
    "    {'name': 'Jeans', 'category': 'clothing'},\n",
    "    {'name': 'Laptop', 'category': 'electronics'},\n",
    "    {'name': 'Headphones', 'category': 'electronics'},\n",
    "    {'name': 'Bread', 'category': 'groceries'},\n",
    "    {'name': 'Milk', 'category': 'groceries'},\n",
    "    {'name': 'Smartphone', 'category': 'electronics'},\n",
    "    {'name': 'Jacket', 'category': 'clothing'},\n",
    "    {'name': 'Cereal', 'category': 'groceries'},\n",
    "    {'name': 'TV', 'category': 'electronics'}\n",
    "]\n",
    "\n"
   ]
  },
  {
   "cell_type": "code",
   "execution_count": 14,
   "id": "046206f1-7ead-4695-b6d6-b572afaddc60",
   "metadata": {
    "tags": []
   },
   "outputs": [],
   "source": [
    "customers = [\n",
    "    {'name': 'Alice', 'email': 'alice@example.com', 'phone': '1234567890', 'address': '123 Main St'},\n",
    "    {'name': 'Bob', 'email': 'bob@example.com', 'phone': '2345678901', 'address': '456 Elm St'},\n",
    "    {'name': 'Charlie', 'email': 'charlie@example.com', 'phone': '3456789012', 'address': '789 Oak St'},\n",
    "    {'name': 'David', 'email': 'david@example.com', 'phone': '4567890123', 'address': '101 Pine St'},\n",
    "    {'name': 'Eve', 'email': 'eve@example.com', 'phone': '5678901234', 'address': '202 Maple St'},\n",
    "    {'name': 'Frank', 'email': 'frank@example.com', 'phone': '6789012345', 'address': '303 Birch St'},\n",
    "    {'name': 'Grace', 'email': 'grace@example.com', 'phone': '7890123456', 'address': '404 Cedar St'},\n",
    "    {'name': 'Heidi', 'email': 'heidi@example.com', 'phone': '8901234567', 'address': '505 Spruce St'},\n",
    "    {'name': 'Ivan', 'email': 'ivan@example.com', 'phone': '9012345678', 'address': '606 Fir St'},\n",
    "    {'name': 'Judy', 'email': 'judy@example.com', 'phone': '1234567899', 'address': '707 Willow St'}\n",
    "]\n"
   ]
  },
  {
   "cell_type": "code",
   "execution_count": 15,
   "id": "9d30a93f-74cb-4627-b612-f5e4b0e548cb",
   "metadata": {
    "tags": []
   },
   "outputs": [],
   "source": [
    "for product in products:\n",
    "    cursor.execute('INSERT INTO Product (name, category, discontinued) VALUES (?, ?, ?)',\n",
    "                   (product['name'], product['category'], False))"
   ]
  },
  {
   "cell_type": "code",
   "execution_count": 16,
   "id": "2942e791-df31-433b-8c96-dc8ca0fe4588",
   "metadata": {
    "tags": []
   },
   "outputs": [],
   "source": [
    "variants = [\n",
    "    {'product_id': 1, 'name': 'Red', 'price': 10.0, 'discontinued': False},\n",
    "    {'product_id': 1, 'name': 'Green', 'price': 12.0, 'discontinued': False},\n",
    "    {'product_id': 2, 'name': 'Blue', 'price': 15.0, 'discontinued': False},\n",
    "    {'product_id': 3, 'name': '16GB RAM', 'price': 1000.0, 'discontinued': False},\n",
    "    {'product_id': 3, 'name': '8GB RAM', 'price': 900.0, 'discontinued': False},\n",
    "    {'product_id': 4, 'name': 'Wireless', 'price': 50.0, 'discontinued': False},\n",
    "    {'product_id': 5, 'name': 'Whole Grain', 'price': 3.0, 'discontinued': False},\n",
    "    {'product_id': 6, 'name': 'Organic', 'price': 4.0, 'discontinued': False},\n",
    "    {'product_id': 7, 'name': '64GB', 'price': 700.0, 'discontinued': False},\n",
    "    {'product_id': 8, 'name': 'Large', 'price': 60.0, 'discontinued': False},\n",
    "    {'product_id': 9, 'name': 'Honey Nut', 'price': 5.0, 'discontinued': False},\n",
    "    {'product_id': 10, 'name': '4K', 'price': 500.0, 'discontinued': False}\n",
    "]"
   ]
  },
  {
   "cell_type": "code",
   "execution_count": 17,
   "id": "5a2fdcc2-4543-4ca7-84a8-c66339ab7891",
   "metadata": {
    "tags": []
   },
   "outputs": [],
   "source": [
    "for variant in variants:\n",
    "    cursor.execute('INSERT INTO Variant (product_id, name, price, discontinued) VALUES (?, ?, ?, ?)',\n",
    "                   (variant['product_id'], variant['name'], variant['price'], variant['discontinued']))"
   ]
  },
  {
   "cell_type": "code",
   "execution_count": 18,
   "id": "11c4d09e-970e-417d-901f-d0af4a2d1288",
   "metadata": {
    "tags": []
   },
   "outputs": [],
   "source": [
    "for customer in customers:\n",
    "    created_at = datetime.now() - timedelta(days=random.randint(30, 365*2))\n",
    "    updated_at = datetime.now()\n",
    "    cursor.execute('INSERT INTO Customer (name, email, phone, address, created_at, updated_at) VALUES (?, ?, ?, ?, ?, ?)',\n",
    "                   (customer['name'], customer['email'], customer['phone'], customer['address'], created_at, updated_at))"
   ]
  },
  {
   "cell_type": "code",
   "execution_count": 19,
   "id": "799ee336-4ff6-4fe6-a6d8-635f6850d7e6",
   "metadata": {
    "tags": []
   },
   "outputs": [],
   "source": [
    "for _ in range(100):  \n",
    "    customer_id = random.randint(1, len(customers))\n",
    "    order_date = datetime.now() - timedelta(days=random.randint(1, 365*2))\n",
    "    total_amount = 0\n",
    "    cursor.execute('INSERT INTO \"Order\" (customer_id, order_date, total_amount) VALUES (?, ?, ?)',\n",
    "                   (customer_id, order_date, total_amount))\n",
    "    order_id = cursor.lastrowid\n",
    "    \n",
    "    num_items = random.randint(1, 5)\n",
    "    for _ in range(num_items):\n",
    "        variant_id = random.randint(1, len(variants))\n",
    "        quantity = random.randint(1, 3)\n",
    "        price_at_purchase = cursor.execute('SELECT price FROM Variant WHERE variant_id = ?', (variant_id,)).fetchone()[0]\n",
    "        total_amount += price_at_purchase * quantity\n",
    "        cursor.execute('INSERT INTO OrderItem (order_id, variant_id, quantity, price_at_purchase) VALUES (?, ?, ?, ?)',\n",
    "                       (order_id, variant_id, quantity, price_at_purchase))\n",
    "    \n",
    "    cursor.execute('UPDATE \"Order\" SET total_amount = ? WHERE order_id = ?', (total_amount, order_id))"
   ]
  },
  {
   "cell_type": "code",
   "execution_count": 20,
   "id": "955a9766-d951-492b-b10f-7b6a0b9b7c68",
   "metadata": {
    "tags": []
   },
   "outputs": [],
   "source": [
    "for customer_id in range(1, len(customers) + 1):\n",
    "    address = cursor.execute('SELECT address FROM Customer WHERE customer_id = ?', (customer_id,)).fetchone()[0]\n",
    "    created_at = datetime.now() - timedelta(days=random.randint(30, 365*2))\n",
    "    updated_at = datetime.now()\n",
    "    cursor.execute('INSERT INTO CustomerAddress (customer_id, address, created_at, updated_at) VALUES (?, ?, ?, ?)',\n",
    "                   (customer_id, address, created_at, updated_at))"
   ]
  },
  {
   "cell_type": "code",
   "execution_count": null,
   "id": "6fb39f8a-a40e-4a38-b810-4beaa0be4b49",
   "metadata": {},
   "outputs": [],
   "source": []
  }
 ],
 "metadata": {
  "kernelspec": {
   "display_name": "Python 3 (ipykernel)",
   "language": "python",
   "name": "python3"
  },
  "language_info": {
   "codemirror_mode": {
    "name": "ipython",
    "version": 3
   },
   "file_extension": ".py",
   "mimetype": "text/x-python",
   "name": "python",
   "nbconvert_exporter": "python",
   "pygments_lexer": "ipython3",
   "version": "3.11.0"
  }
 },
 "nbformat": 4,
 "nbformat_minor": 5
}
