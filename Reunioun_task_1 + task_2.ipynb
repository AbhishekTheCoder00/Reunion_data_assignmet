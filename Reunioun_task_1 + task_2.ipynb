{
 "cells": [
  {
   "cell_type": "code",
   "execution_count": 1,
   "id": "7181f4b5-0904-4975-a8d4-b4b940ab4e22",
   "metadata": {},
   "outputs": [],
   "source": [
    "import random\n",
    "from datetime import datetime, timedelta\n",
    "import sqlite3"
   ]
  },
  {
   "cell_type": "code",
   "execution_count": 2,
   "id": "0aa92000-8de8-4908-9fda-c78af760b949",
   "metadata": {},
   "outputs": [],
   "source": [
    "conn = sqlite3.connect('ecommerce.db')\n",
    "cursor = conn.cursor()"
   ]
  },
  {
   "cell_type": "code",
   "execution_count": 3,
   "id": "389596c0-30a9-4037-95c9-7f5776dded57",
   "metadata": {},
   "outputs": [
    {
     "data": {
      "text/plain": [
       "<sqlite3.Cursor at 0x20aa0a8ab40>"
      ]
     },
     "execution_count": 3,
     "metadata": {},
     "output_type": "execute_result"
    }
   ],
   "source": [
    "cursor.execute('''\n",
    "CREATE TABLE IF NOT EXISTS Product (\n",
    "    product_id INTEGER PRIMARY KEY AUTOINCREMENT,\n",
    "    name TEXT,\n",
    "    category TEXT,\n",
    "    discontinued BOOLEAN\n",
    ")''')\n"
   ]
  },
  {
   "cell_type": "code",
   "execution_count": 4,
   "id": "61a16c3c-9b7d-444b-8efe-6b877b9e9a81",
   "metadata": {},
   "outputs": [
    {
     "data": {
      "text/plain": [
       "<sqlite3.Cursor at 0x20aa0a8ab40>"
      ]
     },
     "execution_count": 4,
     "metadata": {},
     "output_type": "execute_result"
    }
   ],
   "source": [
    "\n",
    "cursor.execute('''\n",
    "CREATE TABLE IF NOT EXISTS Variant (\n",
    "    variant_id INTEGER PRIMARY KEY AUTOINCREMENT,\n",
    "    product_id INTEGER,\n",
    "    name TEXT,\n",
    "    price REAL,\n",
    "    discontinued BOOLEAN,\n",
    "    FOREIGN KEY (product_id) REFERENCES Product (product_id)\n",
    ")''')\n"
   ]
  },
  {
   "cell_type": "code",
   "execution_count": 5,
   "id": "6c2b041e-e396-4194-85f7-224b38d634da",
   "metadata": {},
   "outputs": [
    {
     "data": {
      "text/plain": [
       "<sqlite3.Cursor at 0x20aa0a8ab40>"
      ]
     },
     "execution_count": 5,
     "metadata": {},
     "output_type": "execute_result"
    }
   ],
   "source": [
    "cursor.execute('''\n",
    "CREATE TABLE IF NOT EXISTS Customer (\n",
    "    customer_id INTEGER PRIMARY KEY AUTOINCREMENT,\n",
    "    name TEXT,\n",
    "    email TEXT,\n",
    "    phone TEXT,\n",
    "    address TEXT,\n",
    "    created_at TIMESTAMP,\n",
    "    updated_at TIMESTAMP\n",
    ")''')\n"
   ]
  },
  {
   "cell_type": "code",
   "execution_count": 6,
   "id": "e140b9b7-69d0-4652-b6b9-e60ba31d369b",
   "metadata": {},
   "outputs": [
    {
     "data": {
      "text/plain": [
       "<sqlite3.Cursor at 0x20aa0a8ab40>"
      ]
     },
     "execution_count": 6,
     "metadata": {},
     "output_type": "execute_result"
    }
   ],
   "source": [
    "cursor.execute('''\n",
    "CREATE TABLE IF NOT EXISTS \"OrderItem\" (\n",
    "    order_item_id INTEGER PRIMARY KEY AUTOINCREMENT,\n",
    "    order_id INTEGER,\n",
    "    variant_id INTEGER,\n",
    "    quantity INTEGER,\n",
    "    price_at_purchase REAL,\n",
    "    FOREIGN KEY (order_id) REFERENCES \"Order\" (order_id),\n",
    "    FOREIGN KEY (variant_id) REFERENCES Variant (variant_id)\n",
    ")''')"
   ]
  },
  {
   "cell_type": "code",
   "execution_count": 7,
   "id": "e39de7b0-ba6e-4d0f-b893-e78ffc03d128",
   "metadata": {},
   "outputs": [
    {
     "data": {
      "text/plain": [
       "<sqlite3.Cursor at 0x20aa0a8ab40>"
      ]
     },
     "execution_count": 7,
     "metadata": {},
     "output_type": "execute_result"
    }
   ],
   "source": [
    "cursor.execute('''\n",
    "CREATE TABLE IF NOT EXISTS \"Order\" (\n",
    "    order_id INTEGER PRIMARY KEY AUTOINCREMENT,\n",
    "    customer_id INTEGER,\n",
    "    order_date TIMESTAMP,\n",
    "    total_amount REAL,\n",
    "    FOREIGN KEY (customer_id) REFERENCES Customer (customer_id)\n",
    ")''')"
   ]
  },
  {
   "cell_type": "code",
   "execution_count": 8,
   "id": "cb89ac55-3991-466b-9a96-7e4f587faead",
   "metadata": {},
   "outputs": [
    {
     "data": {
      "text/plain": [
       "<sqlite3.Cursor at 0x20aa0a8ab40>"
      ]
     },
     "execution_count": 8,
     "metadata": {},
     "output_type": "execute_result"
    }
   ],
   "source": [
    "cursor.execute('''\n",
    "CREATE TABLE IF NOT EXISTS CustomerAddress (\n",
    "    address_id INTEGER PRIMARY KEY AUTOINCREMENT,\n",
    "    customer_id INTEGER,\n",
    "    address TEXT,\n",
    "    created_at TIMESTAMP,\n",
    "    updated_at TIMESTAMP,\n",
    "    FOREIGN KEY (customer_id) REFERENCES Customer (customer_id)\n",
    ")''')"
   ]
  },
  {
   "cell_type": "code",
   "execution_count": 9,
   "id": "ab215e64-d8dc-4761-b56c-0083ede58a18",
   "metadata": {
    "tags": []
   },
   "outputs": [],
   "source": [
    "categories = ['clothing', 'groceries', 'electronics']\n",
    "products = [\n",
    "    {'name': 'T-Shirt', 'category': 'clothing'},\n",
    "    {'name': 'Jeans', 'category': 'clothing'},\n",
    "    {'name': 'Laptop', 'category': 'electronics'},\n",
    "    {'name': 'Headphones', 'category': 'electronics'},\n",
    "    {'name': 'Bread', 'category': 'groceries'},\n",
    "    {'name': 'Milk', 'category': 'groceries'},\n",
    "    {'name': 'Smartphone', 'category': 'electronics'},\n",
    "    {'name': 'Jacket', 'category': 'clothing'},\n",
    "    {'name': 'Cereal', 'category': 'groceries'},\n",
    "    {'name': 'TV', 'category': 'electronics'}\n",
    "]\n",
    "\n"
   ]
  },
  {
   "cell_type": "code",
   "execution_count": 10,
   "id": "046206f1-7ead-4695-b6d6-b572afaddc60",
   "metadata": {
    "tags": []
   },
   "outputs": [],
   "source": [
    "customers = [\n",
    "    {'name': 'Alice', 'email': 'alice@example.com', 'phone': '1234567890', 'address': '123 Main St'},\n",
    "    {'name': 'Bob', 'email': 'bob@example.com', 'phone': '2345678901', 'address': '456 Elm St'},\n",
    "    {'name': 'Charlie', 'email': 'charlie@example.com', 'phone': '3456789012', 'address': '789 Oak St'},\n",
    "    {'name': 'David', 'email': 'david@example.com', 'phone': '4567890123', 'address': '101 Pine St'},\n",
    "    {'name': 'Eve', 'email': 'eve@example.com', 'phone': '5678901234', 'address': '202 Maple St'},\n",
    "    {'name': 'Frank', 'email': 'frank@example.com', 'phone': '6789012345', 'address': '303 Birch St'},\n",
    "    {'name': 'Grace', 'email': 'grace@example.com', 'phone': '7890123456', 'address': '404 Cedar St'},\n",
    "    {'name': 'Heidi', 'email': 'heidi@example.com', 'phone': '8901234567', 'address': '505 Spruce St'},\n",
    "    {'name': 'Ivan', 'email': 'ivan@example.com', 'phone': '9012345678', 'address': '606 Fir St'},\n",
    "    {'name': 'Judy', 'email': 'judy@example.com', 'phone': '1234567899', 'address': '707 Willow St'}\n",
    "]\n"
   ]
  },
  {
   "cell_type": "code",
   "execution_count": 11,
   "id": "9d30a93f-74cb-4627-b612-f5e4b0e548cb",
   "metadata": {
    "tags": []
   },
   "outputs": [],
   "source": [
    "for product in products:\n",
    "    cursor.execute('INSERT INTO Product (name, category, discontinued) VALUES (?, ?, ?)',\n",
    "                   (product['name'], product['category'], False))"
   ]
  },
  {
   "cell_type": "code",
   "execution_count": 12,
   "id": "2942e791-df31-433b-8c96-dc8ca0fe4588",
   "metadata": {
    "tags": []
   },
   "outputs": [],
   "source": [
    "variants = [\n",
    "    {'product_id': 1, 'name': 'Red', 'price': 10.0, 'discontinued': False},\n",
    "    {'product_id': 1, 'name': 'Green', 'price': 12.0, 'discontinued': False},\n",
    "    {'product_id': 2, 'name': 'Blue', 'price': 15.0, 'discontinued': False},\n",
    "    {'product_id': 3, 'name': '16GB RAM', 'price': 1000.0, 'discontinued': False},\n",
    "    {'product_id': 3, 'name': '8GB RAM', 'price': 900.0, 'discontinued': False},\n",
    "    {'product_id': 4, 'name': 'Wireless', 'price': 50.0, 'discontinued': False},\n",
    "    {'product_id': 5, 'name': 'Whole Grain', 'price': 3.0, 'discontinued': False},\n",
    "    {'product_id': 6, 'name': 'Organic', 'price': 4.0, 'discontinued': False},\n",
    "    {'product_id': 7, 'name': '64GB', 'price': 700.0, 'discontinued': False},\n",
    "    {'product_id': 8, 'name': 'Large', 'price': 60.0, 'discontinued': False},\n",
    "    {'product_id': 9, 'name': 'Honey Nut', 'price': 5.0, 'discontinued': False},\n",
    "    {'product_id': 10, 'name': '4K', 'price': 500.0, 'discontinued': False}\n",
    "]"
   ]
  },
  {
   "cell_type": "code",
   "execution_count": 13,
   "id": "5a2fdcc2-4543-4ca7-84a8-c66339ab7891",
   "metadata": {
    "tags": []
   },
   "outputs": [],
   "source": [
    "for variant in variants:\n",
    "    cursor.execute('INSERT INTO Variant (product_id, name, price, discontinued) VALUES (?, ?, ?, ?)',\n",
    "                   (variant['product_id'], variant['name'], variant['price'], variant['discontinued']))"
   ]
  },
  {
   "cell_type": "code",
   "execution_count": 14,
   "id": "11c4d09e-970e-417d-901f-d0af4a2d1288",
   "metadata": {
    "tags": []
   },
   "outputs": [],
   "source": [
    "for customer in customers:\n",
    "    created_at = datetime.now() - timedelta(days=random.randint(30, 365*2))\n",
    "    updated_at = datetime.now()\n",
    "    cursor.execute('INSERT INTO Customer (name, email, phone, address, created_at, updated_at) VALUES (?, ?, ?, ?, ?, ?)',\n",
    "                   (customer['name'], customer['email'], customer['phone'], customer['address'], created_at, updated_at))"
   ]
  },
  {
   "cell_type": "code",
   "execution_count": 15,
   "id": "799ee336-4ff6-4fe6-a6d8-635f6850d7e6",
   "metadata": {
    "tags": []
   },
   "outputs": [],
   "source": [
    "for _ in range(100):  \n",
    "    customer_id = random.randint(1, len(customers))\n",
    "    order_date = datetime.now() - timedelta(days=random.randint(1, 365*2))\n",
    "    total_amount = 0\n",
    "    cursor.execute('INSERT INTO \"Order\" (customer_id, order_date, total_amount) VALUES (?, ?, ?)',\n",
    "                   (customer_id, order_date, total_amount))\n",
    "    order_id = cursor.lastrowid\n",
    "    \n",
    "    num_items = random.randint(1, 5)\n",
    "    for _ in range(num_items):\n",
    "        variant_id = random.randint(1, len(variants))\n",
    "        quantity = random.randint(1, 3)\n",
    "        price_at_purchase = cursor.execute('SELECT price FROM Variant WHERE variant_id = ?', (variant_id,)).fetchone()[0]\n",
    "        total_amount += price_at_purchase * quantity\n",
    "        cursor.execute('INSERT INTO OrderItem (order_id, variant_id, quantity, price_at_purchase) VALUES (?, ?, ?, ?)',\n",
    "                       (order_id, variant_id, quantity, price_at_purchase))\n",
    "    \n",
    "    cursor.execute('UPDATE \"Order\" SET total_amount = ? WHERE order_id = ?', (total_amount, order_id))"
   ]
  },
  {
   "cell_type": "code",
   "execution_count": 16,
   "id": "955a9766-d951-492b-b10f-7b6a0b9b7c68",
   "metadata": {
    "tags": []
   },
   "outputs": [],
   "source": [
    "for customer_id in range(1, len(customers) + 1):\n",
    "    address = cursor.execute('SELECT address FROM Customer WHERE customer_id = ?', (customer_id,)).fetchone()[0]\n",
    "    created_at = datetime.now() - timedelta(days=random.randint(30, 365*2))\n",
    "    updated_at = datetime.now()\n",
    "    cursor.execute('INSERT INTO CustomerAddress (customer_id, address, created_at, updated_at) VALUES (?, ?, ?, ?)',\n",
    "                   (customer_id, address, created_at, updated_at))"
   ]
  },
  {
   "cell_type": "code",
   "execution_count": 17,
   "id": "6fb39f8a-a40e-4a38-b810-4beaa0be4b49",
   "metadata": {
    "tags": []
   },
   "outputs": [],
   "source": [
    "conn.commit()\n",
    "conn.close()"
   ]
  },
  {
   "cell_type": "code",
   "execution_count": 18,
   "id": "2f7ad59f-10d4-4b69-b15e-e909018ee247",
   "metadata": {
    "tags": []
   },
   "outputs": [],
   "source": [
    "#Retrieve the top 5 customers who have made the highest average order amounts in the last 6 months"
   ]
  },
  {
   "cell_type": "code",
   "execution_count": 19,
   "id": "29eeae04-92ff-4711-a0a6-8f27716c9374",
   "metadata": {
    "tags": []
   },
   "outputs": [],
   "source": [
    "conn = sqlite3.connect('ecommerce.db')  \n",
    "\n",
    "\n",
    "query = '''\n",
    "SELECT \n",
    "    c.customer_id, \n",
    "    c.name, \n",
    "    AVG(o.total_amount) AS average_order_amount\n",
    "FROM \n",
    "    \"Order\" o\n",
    "JOIN \n",
    "    Customer c ON o.customer_id = c.customer_id\n",
    "WHERE \n",
    "    o.order_date >= DATE('now', '-6 months')\n",
    "GROUP BY \n",
    "    c.customer_id, c.name\n",
    "ORDER BY \n",
    "    average_order_amount DESC\n",
    "LIMIT 5;\n",
    "'''"
   ]
  },
  {
   "cell_type": "code",
   "execution_count": 20,
   "id": "684e0a2e-869d-4fa2-b40f-433a0525ed62",
   "metadata": {
    "tags": []
   },
   "outputs": [],
   "source": [
    "import pandas as pd"
   ]
  },
  {
   "cell_type": "code",
   "execution_count": 21,
   "id": "0b6caf66-60a9-4016-a91f-02eb821e3825",
   "metadata": {
    "tags": []
   },
   "outputs": [],
   "source": [
    "df = pd.read_sql_query(query, conn)"
   ]
  },
  {
   "cell_type": "code",
   "execution_count": 22,
   "id": "85762b09-3d76-4847-af26-617216f8ec45",
   "metadata": {
    "tags": []
   },
   "outputs": [
    {
     "data": {
      "text/html": [
       "<div>\n",
       "<style scoped>\n",
       "    .dataframe tbody tr th:only-of-type {\n",
       "        vertical-align: middle;\n",
       "    }\n",
       "\n",
       "    .dataframe tbody tr th {\n",
       "        vertical-align: top;\n",
       "    }\n",
       "\n",
       "    .dataframe thead th {\n",
       "        text-align: right;\n",
       "    }\n",
       "</style>\n",
       "<table border=\"1\" class=\"dataframe\">\n",
       "  <thead>\n",
       "    <tr style=\"text-align: right;\">\n",
       "      <th></th>\n",
       "      <th>customer_id</th>\n",
       "      <th>name</th>\n",
       "      <th>average_order_amount</th>\n",
       "    </tr>\n",
       "  </thead>\n",
       "  <tbody>\n",
       "    <tr>\n",
       "      <th>0</th>\n",
       "      <td>7</td>\n",
       "      <td>Grace</td>\n",
       "      <td>2692.000000</td>\n",
       "    </tr>\n",
       "    <tr>\n",
       "      <th>1</th>\n",
       "      <td>9</td>\n",
       "      <td>Ivan</td>\n",
       "      <td>2508.666667</td>\n",
       "    </tr>\n",
       "    <tr>\n",
       "      <th>2</th>\n",
       "      <td>4</td>\n",
       "      <td>David</td>\n",
       "      <td>2403.250000</td>\n",
       "    </tr>\n",
       "    <tr>\n",
       "      <th>3</th>\n",
       "      <td>5</td>\n",
       "      <td>Eve</td>\n",
       "      <td>1824.000000</td>\n",
       "    </tr>\n",
       "    <tr>\n",
       "      <th>4</th>\n",
       "      <td>6</td>\n",
       "      <td>Frank</td>\n",
       "      <td>1617.875000</td>\n",
       "    </tr>\n",
       "  </tbody>\n",
       "</table>\n",
       "</div>"
      ],
      "text/plain": [
       "   customer_id   name  average_order_amount\n",
       "0            7  Grace           2692.000000\n",
       "1            9   Ivan           2508.666667\n",
       "2            4  David           2403.250000\n",
       "3            5    Eve           1824.000000\n",
       "4            6  Frank           1617.875000"
      ]
     },
     "execution_count": 22,
     "metadata": {},
     "output_type": "execute_result"
    }
   ],
   "source": [
    "df"
   ]
  },
  {
   "cell_type": "code",
   "execution_count": 23,
   "id": "6be5687b-1c26-4e95-a871-41ceaf1788f5",
   "metadata": {
    "tags": []
   },
   "outputs": [],
   "source": [
    "#Retrieve the list of customer whose order value is lower this year as compared to previous year"
   ]
  },
  {
   "cell_type": "code",
   "execution_count": 24,
   "id": "a7e6cd0c-f7f1-4601-910c-5db9401369f6",
   "metadata": {
    "tags": []
   },
   "outputs": [],
   "source": [
    "query1 = '''\n",
    "SELECT \n",
    "    c.customer_id, \n",
    "    c.name, \n",
    "    SUM(CASE WHEN strftime('%Y', o.order_date) = strftime('%Y', 'now') THEN o.total_amount ELSE 0 END) AS this_year,\n",
    "    SUM(CASE WHEN strftime('%Y', o.order_date) = strftime('%Y', 'now', '-1 year') THEN o.total_amount ELSE 0 END) AS last_year\n",
    "FROM \n",
    "    \"Order\" o\n",
    "JOIN \n",
    "    Customer c ON o.customer_id = c.customer_id\n",
    "GROUP BY \n",
    "    c.customer_id, c.name\n",
    "HAVING \n",
    "    this_year < last_year;\n",
    "'''"
   ]
  },
  {
   "cell_type": "code",
   "execution_count": 26,
   "id": "13d2b8eb-8046-4c8f-a0d6-a703c641ef9f",
   "metadata": {
    "tags": []
   },
   "outputs": [],
   "source": [
    "df1 = pd.read_sql_query(query1, conn)"
   ]
  },
  {
   "cell_type": "code",
   "execution_count": 27,
   "id": "63c2e639-5177-4a33-bf5b-b074c5ecb819",
   "metadata": {
    "tags": []
   },
   "outputs": [
    {
     "data": {
      "text/html": [
       "<div>\n",
       "<style scoped>\n",
       "    .dataframe tbody tr th:only-of-type {\n",
       "        vertical-align: middle;\n",
       "    }\n",
       "\n",
       "    .dataframe tbody tr th {\n",
       "        vertical-align: top;\n",
       "    }\n",
       "\n",
       "    .dataframe thead th {\n",
       "        text-align: right;\n",
       "    }\n",
       "</style>\n",
       "<table border=\"1\" class=\"dataframe\">\n",
       "  <thead>\n",
       "    <tr style=\"text-align: right;\">\n",
       "      <th></th>\n",
       "      <th>customer_id</th>\n",
       "      <th>name</th>\n",
       "      <th>this_year</th>\n",
       "      <th>last_year</th>\n",
       "    </tr>\n",
       "  </thead>\n",
       "  <tbody>\n",
       "    <tr>\n",
       "      <th>0</th>\n",
       "      <td>1</td>\n",
       "      <td>Alice</td>\n",
       "      <td>3215.0</td>\n",
       "      <td>12515.0</td>\n",
       "    </tr>\n",
       "    <tr>\n",
       "      <th>1</th>\n",
       "      <td>2</td>\n",
       "      <td>Bob</td>\n",
       "      <td>6502.0</td>\n",
       "      <td>15975.0</td>\n",
       "    </tr>\n",
       "    <tr>\n",
       "      <th>2</th>\n",
       "      <td>3</td>\n",
       "      <td>Charlie</td>\n",
       "      <td>7875.0</td>\n",
       "      <td>12887.0</td>\n",
       "    </tr>\n",
       "    <tr>\n",
       "      <th>3</th>\n",
       "      <td>5</td>\n",
       "      <td>Eve</td>\n",
       "      <td>7381.0</td>\n",
       "      <td>17478.0</td>\n",
       "    </tr>\n",
       "    <tr>\n",
       "      <th>4</th>\n",
       "      <td>6</td>\n",
       "      <td>Frank</td>\n",
       "      <td>12943.0</td>\n",
       "      <td>19357.0</td>\n",
       "    </tr>\n",
       "    <tr>\n",
       "      <th>5</th>\n",
       "      <td>7</td>\n",
       "      <td>Grace</td>\n",
       "      <td>10768.0</td>\n",
       "      <td>11807.0</td>\n",
       "    </tr>\n",
       "    <tr>\n",
       "      <th>6</th>\n",
       "      <td>8</td>\n",
       "      <td>Heidi</td>\n",
       "      <td>10344.0</td>\n",
       "      <td>22212.0</td>\n",
       "    </tr>\n",
       "    <tr>\n",
       "      <th>7</th>\n",
       "      <td>10</td>\n",
       "      <td>Judy</td>\n",
       "      <td>12722.0</td>\n",
       "      <td>15711.0</td>\n",
       "    </tr>\n",
       "  </tbody>\n",
       "</table>\n",
       "</div>"
      ],
      "text/plain": [
       "   customer_id     name  this_year  last_year\n",
       "0            1    Alice     3215.0    12515.0\n",
       "1            2      Bob     6502.0    15975.0\n",
       "2            3  Charlie     7875.0    12887.0\n",
       "3            5      Eve     7381.0    17478.0\n",
       "4            6    Frank    12943.0    19357.0\n",
       "5            7    Grace    10768.0    11807.0\n",
       "6            8    Heidi    10344.0    22212.0\n",
       "7           10     Judy    12722.0    15711.0"
      ]
     },
     "execution_count": 27,
     "metadata": {},
     "output_type": "execute_result"
    }
   ],
   "source": [
    "df1"
   ]
  },
  {
   "cell_type": "code",
   "execution_count": 28,
   "id": "a7df549e-1ef0-4942-b68e-705fc2cbe99b",
   "metadata": {
    "tags": []
   },
   "outputs": [],
   "source": [
    "#Create a table showing cumulative purchase by a particular customer. Show the breakup of cumulative purchases by product category."
   ]
  },
  {
   "cell_type": "code",
   "execution_count": 29,
   "id": "eb628eed-3d03-4fca-981c-5c04227cc0ca",
   "metadata": {
    "tags": []
   },
   "outputs": [],
   "source": [
    "query2 = '''\n",
    "SELECT \n",
    "    c.customer_id, \n",
    "    c.name, \n",
    "    p.category, \n",
    "    SUM(oi.quantity * oi.price_at_purchase) AS total_purchase\n",
    "FROM \n",
    "    OrderItem oi\n",
    "JOIN \n",
    "    \"Order\" o ON oi.order_id = o.order_id\n",
    "JOIN \n",
    "    Customer c ON o.customer_id = c.customer_id\n",
    "JOIN \n",
    "    Variant v ON oi.variant_id = v.variant_id\n",
    "JOIN \n",
    "    Product p ON v.product_id = p.product_id\n",
    "GROUP BY \n",
    "    c.customer_id, c.name, p.category\n",
    "ORDER BY \n",
    "    c.customer_id, p.category;\n",
    "'''"
   ]
  },
  {
   "cell_type": "code",
   "execution_count": 30,
   "id": "58eb41dc-7810-44bd-aa70-3b102ebe891d",
   "metadata": {
    "tags": []
   },
   "outputs": [],
   "source": [
    "df2 = pd.read_sql_query(query2, conn)"
   ]
  },
  {
   "cell_type": "code",
   "execution_count": 31,
   "id": "7121ca7e-195b-44a0-84a3-bff941554dd0",
   "metadata": {
    "tags": []
   },
   "outputs": [
    {
     "data": {
      "text/html": [
       "<div>\n",
       "<style scoped>\n",
       "    .dataframe tbody tr th:only-of-type {\n",
       "        vertical-align: middle;\n",
       "    }\n",
       "\n",
       "    .dataframe tbody tr th {\n",
       "        vertical-align: top;\n",
       "    }\n",
       "\n",
       "    .dataframe thead th {\n",
       "        text-align: right;\n",
       "    }\n",
       "</style>\n",
       "<table border=\"1\" class=\"dataframe\">\n",
       "  <thead>\n",
       "    <tr style=\"text-align: right;\">\n",
       "      <th></th>\n",
       "      <th>customer_id</th>\n",
       "      <th>name</th>\n",
       "      <th>category</th>\n",
       "      <th>total_purchase</th>\n",
       "    </tr>\n",
       "  </thead>\n",
       "  <tbody>\n",
       "    <tr>\n",
       "      <th>0</th>\n",
       "      <td>1</td>\n",
       "      <td>Alice</td>\n",
       "      <td>clothing</td>\n",
       "      <td>689.0</td>\n",
       "    </tr>\n",
       "    <tr>\n",
       "      <th>1</th>\n",
       "      <td>1</td>\n",
       "      <td>Alice</td>\n",
       "      <td>electronics</td>\n",
       "      <td>28000.0</td>\n",
       "    </tr>\n",
       "    <tr>\n",
       "      <th>2</th>\n",
       "      <td>1</td>\n",
       "      <td>Alice</td>\n",
       "      <td>groceries</td>\n",
       "      <td>118.0</td>\n",
       "    </tr>\n",
       "    <tr>\n",
       "      <th>3</th>\n",
       "      <td>2</td>\n",
       "      <td>Bob</td>\n",
       "      <td>clothing</td>\n",
       "      <td>929.0</td>\n",
       "    </tr>\n",
       "    <tr>\n",
       "      <th>4</th>\n",
       "      <td>2</td>\n",
       "      <td>Bob</td>\n",
       "      <td>electronics</td>\n",
       "      <td>30100.0</td>\n",
       "    </tr>\n",
       "    <tr>\n",
       "      <th>5</th>\n",
       "      <td>2</td>\n",
       "      <td>Bob</td>\n",
       "      <td>groceries</td>\n",
       "      <td>87.0</td>\n",
       "    </tr>\n",
       "    <tr>\n",
       "      <th>6</th>\n",
       "      <td>3</td>\n",
       "      <td>Charlie</td>\n",
       "      <td>clothing</td>\n",
       "      <td>552.0</td>\n",
       "    </tr>\n",
       "    <tr>\n",
       "      <th>7</th>\n",
       "      <td>3</td>\n",
       "      <td>Charlie</td>\n",
       "      <td>electronics</td>\n",
       "      <td>25650.0</td>\n",
       "    </tr>\n",
       "    <tr>\n",
       "      <th>8</th>\n",
       "      <td>3</td>\n",
       "      <td>Charlie</td>\n",
       "      <td>groceries</td>\n",
       "      <td>87.0</td>\n",
       "    </tr>\n",
       "    <tr>\n",
       "      <th>9</th>\n",
       "      <td>4</td>\n",
       "      <td>David</td>\n",
       "      <td>clothing</td>\n",
       "      <td>627.0</td>\n",
       "    </tr>\n",
       "    <tr>\n",
       "      <th>10</th>\n",
       "      <td>4</td>\n",
       "      <td>David</td>\n",
       "      <td>electronics</td>\n",
       "      <td>16000.0</td>\n",
       "    </tr>\n",
       "    <tr>\n",
       "      <th>11</th>\n",
       "      <td>4</td>\n",
       "      <td>David</td>\n",
       "      <td>groceries</td>\n",
       "      <td>105.0</td>\n",
       "    </tr>\n",
       "    <tr>\n",
       "      <th>12</th>\n",
       "      <td>5</td>\n",
       "      <td>Eve</td>\n",
       "      <td>clothing</td>\n",
       "      <td>533.0</td>\n",
       "    </tr>\n",
       "    <tr>\n",
       "      <th>13</th>\n",
       "      <td>5</td>\n",
       "      <td>Eve</td>\n",
       "      <td>electronics</td>\n",
       "      <td>28600.0</td>\n",
       "    </tr>\n",
       "    <tr>\n",
       "      <th>14</th>\n",
       "      <td>5</td>\n",
       "      <td>Eve</td>\n",
       "      <td>groceries</td>\n",
       "      <td>98.0</td>\n",
       "    </tr>\n",
       "    <tr>\n",
       "      <th>15</th>\n",
       "      <td>6</td>\n",
       "      <td>Frank</td>\n",
       "      <td>clothing</td>\n",
       "      <td>2147.0</td>\n",
       "    </tr>\n",
       "    <tr>\n",
       "      <th>16</th>\n",
       "      <td>6</td>\n",
       "      <td>Frank</td>\n",
       "      <td>electronics</td>\n",
       "      <td>35850.0</td>\n",
       "    </tr>\n",
       "    <tr>\n",
       "      <th>17</th>\n",
       "      <td>6</td>\n",
       "      <td>Frank</td>\n",
       "      <td>groceries</td>\n",
       "      <td>93.0</td>\n",
       "    </tr>\n",
       "    <tr>\n",
       "      <th>18</th>\n",
       "      <td>7</td>\n",
       "      <td>Grace</td>\n",
       "      <td>clothing</td>\n",
       "      <td>837.0</td>\n",
       "    </tr>\n",
       "    <tr>\n",
       "      <th>19</th>\n",
       "      <td>7</td>\n",
       "      <td>Grace</td>\n",
       "      <td>electronics</td>\n",
       "      <td>28100.0</td>\n",
       "    </tr>\n",
       "    <tr>\n",
       "      <th>20</th>\n",
       "      <td>7</td>\n",
       "      <td>Grace</td>\n",
       "      <td>groceries</td>\n",
       "      <td>66.0</td>\n",
       "    </tr>\n",
       "    <tr>\n",
       "      <th>21</th>\n",
       "      <td>8</td>\n",
       "      <td>Heidi</td>\n",
       "      <td>clothing</td>\n",
       "      <td>834.0</td>\n",
       "    </tr>\n",
       "    <tr>\n",
       "      <th>22</th>\n",
       "      <td>8</td>\n",
       "      <td>Heidi</td>\n",
       "      <td>electronics</td>\n",
       "      <td>44100.0</td>\n",
       "    </tr>\n",
       "    <tr>\n",
       "      <th>23</th>\n",
       "      <td>8</td>\n",
       "      <td>Heidi</td>\n",
       "      <td>groceries</td>\n",
       "      <td>160.0</td>\n",
       "    </tr>\n",
       "    <tr>\n",
       "      <th>24</th>\n",
       "      <td>9</td>\n",
       "      <td>Ivan</td>\n",
       "      <td>clothing</td>\n",
       "      <td>1522.0</td>\n",
       "    </tr>\n",
       "    <tr>\n",
       "      <th>25</th>\n",
       "      <td>9</td>\n",
       "      <td>Ivan</td>\n",
       "      <td>electronics</td>\n",
       "      <td>34750.0</td>\n",
       "    </tr>\n",
       "    <tr>\n",
       "      <th>26</th>\n",
       "      <td>9</td>\n",
       "      <td>Ivan</td>\n",
       "      <td>groceries</td>\n",
       "      <td>68.0</td>\n",
       "    </tr>\n",
       "    <tr>\n",
       "      <th>27</th>\n",
       "      <td>10</td>\n",
       "      <td>Judy</td>\n",
       "      <td>clothing</td>\n",
       "      <td>1318.0</td>\n",
       "    </tr>\n",
       "    <tr>\n",
       "      <th>28</th>\n",
       "      <td>10</td>\n",
       "      <td>Judy</td>\n",
       "      <td>electronics</td>\n",
       "      <td>41150.0</td>\n",
       "    </tr>\n",
       "    <tr>\n",
       "      <th>29</th>\n",
       "      <td>10</td>\n",
       "      <td>Judy</td>\n",
       "      <td>groceries</td>\n",
       "      <td>157.0</td>\n",
       "    </tr>\n",
       "  </tbody>\n",
       "</table>\n",
       "</div>"
      ],
      "text/plain": [
       "    customer_id     name     category  total_purchase\n",
       "0             1    Alice     clothing           689.0\n",
       "1             1    Alice  electronics         28000.0\n",
       "2             1    Alice    groceries           118.0\n",
       "3             2      Bob     clothing           929.0\n",
       "4             2      Bob  electronics         30100.0\n",
       "5             2      Bob    groceries            87.0\n",
       "6             3  Charlie     clothing           552.0\n",
       "7             3  Charlie  electronics         25650.0\n",
       "8             3  Charlie    groceries            87.0\n",
       "9             4    David     clothing           627.0\n",
       "10            4    David  electronics         16000.0\n",
       "11            4    David    groceries           105.0\n",
       "12            5      Eve     clothing           533.0\n",
       "13            5      Eve  electronics         28600.0\n",
       "14            5      Eve    groceries            98.0\n",
       "15            6    Frank     clothing          2147.0\n",
       "16            6    Frank  electronics         35850.0\n",
       "17            6    Frank    groceries            93.0\n",
       "18            7    Grace     clothing           837.0\n",
       "19            7    Grace  electronics         28100.0\n",
       "20            7    Grace    groceries            66.0\n",
       "21            8    Heidi     clothing           834.0\n",
       "22            8    Heidi  electronics         44100.0\n",
       "23            8    Heidi    groceries           160.0\n",
       "24            9     Ivan     clothing          1522.0\n",
       "25            9     Ivan  electronics         34750.0\n",
       "26            9     Ivan    groceries            68.0\n",
       "27           10     Judy     clothing          1318.0\n",
       "28           10     Judy  electronics         41150.0\n",
       "29           10     Judy    groceries           157.0"
      ]
     },
     "execution_count": 31,
     "metadata": {},
     "output_type": "execute_result"
    }
   ],
   "source": [
    "df2"
   ]
  },
  {
   "cell_type": "code",
   "execution_count": 32,
   "id": "46036c4d-28d5-4a64-ad42-ef7d892952a3",
   "metadata": {
    "tags": []
   },
   "outputs": [],
   "source": [
    "#Retrieve the list of top 5 selling products. Further bifurcate the sales by product variants"
   ]
  },
  {
   "cell_type": "code",
   "execution_count": 33,
   "id": "b7f4870a-22d7-47a8-ac66-57db9e8d5401",
   "metadata": {
    "tags": []
   },
   "outputs": [],
   "source": [
    "query3 = '''\n",
    "SELECT \n",
    "    p.product_id, \n",
    "    p.name AS product_name, \n",
    "    v.name AS variant_name, \n",
    "    SUM(oi.quantity) AS total_quantity_sold\n",
    "FROM \n",
    "    OrderItem oi\n",
    "JOIN \n",
    "    Variant v ON oi.variant_id = v.variant_id\n",
    "JOIN \n",
    "    Product p ON v.product_id = p.product_id\n",
    "GROUP BY \n",
    "    p.product_id, p.name, v.variant_id, v.name\n",
    "ORDER BY \n",
    "    total_quantity_sold DESC\n",
    "LIMIT 5;\n",
    "'''"
   ]
  },
  {
   "cell_type": "code",
   "execution_count": 34,
   "id": "c219cae9-c257-427b-9b84-d186e2120632",
   "metadata": {
    "tags": []
   },
   "outputs": [],
   "source": [
    "df3 = pd.read_sql_query(query3, conn)"
   ]
  },
  {
   "cell_type": "code",
   "execution_count": 35,
   "id": "c99a11d5-7e19-4f5f-b8bb-cdcd8158726e",
   "metadata": {
    "tags": []
   },
   "outputs": [
    {
     "data": {
      "text/html": [
       "<div>\n",
       "<style scoped>\n",
       "    .dataframe tbody tr th:only-of-type {\n",
       "        vertical-align: middle;\n",
       "    }\n",
       "\n",
       "    .dataframe tbody tr th {\n",
       "        vertical-align: top;\n",
       "    }\n",
       "\n",
       "    .dataframe thead th {\n",
       "        text-align: right;\n",
       "    }\n",
       "</style>\n",
       "<table border=\"1\" class=\"dataframe\">\n",
       "  <thead>\n",
       "    <tr style=\"text-align: right;\">\n",
       "      <th></th>\n",
       "      <th>product_id</th>\n",
       "      <th>product_name</th>\n",
       "      <th>variant_name</th>\n",
       "      <th>total_quantity_sold</th>\n",
       "    </tr>\n",
       "  </thead>\n",
       "  <tbody>\n",
       "    <tr>\n",
       "      <th>0</th>\n",
       "      <td>4</td>\n",
       "      <td>Headphones</td>\n",
       "      <td>Wireless</td>\n",
       "      <td>122</td>\n",
       "    </tr>\n",
       "    <tr>\n",
       "      <th>1</th>\n",
       "      <td>7</td>\n",
       "      <td>Smartphone</td>\n",
       "      <td>64GB</td>\n",
       "      <td>113</td>\n",
       "    </tr>\n",
       "    <tr>\n",
       "      <th>2</th>\n",
       "      <td>8</td>\n",
       "      <td>Jacket</td>\n",
       "      <td>Large</td>\n",
       "      <td>107</td>\n",
       "    </tr>\n",
       "    <tr>\n",
       "      <th>3</th>\n",
       "      <td>2</td>\n",
       "      <td>Jeans</td>\n",
       "      <td>Blue</td>\n",
       "      <td>100</td>\n",
       "    </tr>\n",
       "    <tr>\n",
       "      <th>4</th>\n",
       "      <td>3</td>\n",
       "      <td>Laptop</td>\n",
       "      <td>8GB RAM</td>\n",
       "      <td>99</td>\n",
       "    </tr>\n",
       "  </tbody>\n",
       "</table>\n",
       "</div>"
      ],
      "text/plain": [
       "   product_id product_name variant_name  total_quantity_sold\n",
       "0           4   Headphones     Wireless                  122\n",
       "1           7   Smartphone         64GB                  113\n",
       "2           8       Jacket        Large                  107\n",
       "3           2        Jeans         Blue                  100\n",
       "4           3       Laptop      8GB RAM                   99"
      ]
     },
     "execution_count": 35,
     "metadata": {},
     "output_type": "execute_result"
    }
   ],
   "source": [
    "df3"
   ]
  },
  {
   "cell_type": "code",
   "execution_count": null,
   "id": "b8af2d40-dce9-4aa7-b809-696d5d3bc7af",
   "metadata": {},
   "outputs": [],
   "source": []
  }
 ],
 "metadata": {
  "kernelspec": {
   "display_name": "Python 3 (ipykernel)",
   "language": "python",
   "name": "python3"
  },
  "language_info": {
   "codemirror_mode": {
    "name": "ipython",
    "version": 3
   },
   "file_extension": ".py",
   "mimetype": "text/x-python",
   "name": "python",
   "nbconvert_exporter": "python",
   "pygments_lexer": "ipython3",
   "version": "3.11.0"
  }
 },
 "nbformat": 4,
 "nbformat_minor": 5
}
